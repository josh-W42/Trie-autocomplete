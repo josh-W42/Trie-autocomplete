{
 "cells": [
  {
   "cell_type": "code",
   "execution_count": 1,
   "metadata": {
    "collapsed": true,
    "tags": []
   },
   "outputs": [],
   "source": [
    "## Represents a single node in the Trie\n",
    "class TrieNode:\n",
    "    def __init__(self):\n",
    "        ## Initialize this node in the Trie\n",
    "        self.is_word = False\n",
    "        self.children = {}\n",
    "    \n",
    "    def insert(self, char):\n",
    "        ## Add a child node in this Trie\n",
    "        if self.children.get(char) is None:\n",
    "            self.children[char] = TrieNode()\n",
    "            \n",
    "\n",
    "        \n",
    "        \n",
    "## The Trie itself containing the root node and insert/find functions\n",
    "class Trie:\n",
    "    def __init__(self):\n",
    "        ## Initialize this Trie (add a root node)\n",
    "        self.root = TrieNode()\n",
    "\n",
    "    def insert(self, word):\n",
    "        ## Add a word to the Trie\n",
    "        current_node = self.root\n",
    "\n",
    "        for char in word:\n",
    "            current_node.insert(char)\n",
    "            current_node = current_node.children[char]\n",
    "\n",
    "        current_node.is_word = True\n",
    "\n",
    "    def find(self, prefix):\n",
    "        ## Find the Trie node that represents this prefix\n",
    "        current_node = self.root\n",
    "\n",
    "        for char in prefix:\n",
    "            if current_node:\n",
    "                current_node = current_node.children.get(char)\n",
    "            else:\n",
    "                break\n",
    "\n",
    "        return current_node"
   ]
  },
  {
   "cell_type": "code",
   "execution_count": 2,
   "metadata": {
    "collapsed": true
   },
   "outputs": [],
   "source": [
    "class TrieNode:\n",
    "    def __init__(self):\n",
    "        ## Initialize this node in the Trie\n",
    "        self.is_word = False\n",
    "        self.children = {}\n",
    "    \n",
    "    def insert(self, char):\n",
    "        ## Add a child node in this Trie\n",
    "        if self.children.get(char) is None:\n",
    "            self.children[char] = TrieNode()\n",
    "        \n",
    "    def suffixes(self, suffix= ''):\n",
    "        ## Recursive function that collects the suffix for \n",
    "        ## all complete words below this point\n",
    "        output = []\n",
    "        children = None\n",
    "\n",
    "        if suffix == '':\n",
    "            children = self.children\n",
    "        else:\n",
    "            if suffix.is_word:\n",
    "                # if the suffix is a word, add it to the output\n",
    "                output.append('')\n",
    "\n",
    "            children = suffix.children\n",
    "        \n",
    "        for char in children.keys():\n",
    "            suffixes = self.suffixes(children[char])\n",
    "\n",
    "            if type(suffixes) == list:\n",
    "                for word_ending in suffixes:\n",
    "                    output.append(char + word_ending)\n",
    "            else:\n",
    "                output.append(char + suffixes)\n",
    "\n",
    "        return output\n",
    "            \n",
    "        \n",
    "\n",
    "            "
   ]
  },
  {
   "cell_type": "code",
   "execution_count": 3,
   "metadata": {
    "collapsed": true
   },
   "outputs": [],
   "source": [
    "MyTrie = Trie()\n",
    "wordList = [\n",
    "    \"ant\", \"anthology\", \"antagonist\", \"antonym\", \n",
    "    \"fun\", \"function\", \"factory\", \n",
    "    \"trie\", \"trigger\", \"trigonometry\", \"tripod\"\n",
    "]\n",
    "for word in wordList:\n",
    "    MyTrie.insert(word)"
   ]
  },
  {
   "cell_type": "code",
   "execution_count": 4,
   "metadata": {
    "collapsed": true
   },
   "outputs": [
    {
     "output_type": "display_data",
     "data": {
      "text/plain": "interactive(children=(Text(value='', description='prefix'), Output()), _dom_classes=('widget-interact',))",
      "application/vnd.jupyter.widget-view+json": {
       "version_major": 2,
       "version_minor": 0,
       "model_id": "142aabf104a84edfb08d8546644554cb"
      }
     },
     "metadata": {}
    }
   ],
   "source": [
    "from ipywidgets import widgets\n",
    "from IPython.display import display\n",
    "from ipywidgets import interact\n",
    "def f(prefix):\n",
    "    if prefix != '':\n",
    "        prefixNode = MyTrie.find(prefix)\n",
    "        if prefixNode:\n",
    "            print('\\n'.join(prefixNode.suffixes()))\n",
    "        else:\n",
    "            print(prefix + \" not found\")\n",
    "    else:\n",
    "        print('')\n",
    "interact(f,prefix='');"
   ]
  },
  {
   "cell_type": "code",
   "execution_count": null,
   "metadata": {},
   "outputs": [],
   "source": []
  }
 ],
 "metadata": {
  "kernelspec": {
   "display_name": "Python 3",
   "language": "python",
   "name": "python3"
  },
  "language_info": {
   "codemirror_mode": {
    "name": "ipython",
    "version": 3
   },
   "file_extension": ".py",
   "mimetype": "text/x-python",
   "name": "python",
   "nbconvert_exporter": "python",
   "pygments_lexer": "ipython3",
   "version": "3.7.6-final"
  },
  "widgets": {
   "state": {},
   "version": "1.1.2"
  }
 },
 "nbformat": 4,
 "nbformat_minor": 2
}
